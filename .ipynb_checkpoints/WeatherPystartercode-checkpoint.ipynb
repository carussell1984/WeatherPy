{
 "cells": [
  {
   "cell_type": "markdown",
   "metadata": {},
   "source": [
    "# WeatherPy\n",
    "----\n",
    "\n",
    "#### Note\n",
    "* Instructions have been included for each segment. You do not have to follow them exactly, but they are included to help you think through the steps."
   ]
  },
  {
   "cell_type": "code",
   "execution_count": 1,
   "metadata": {
    "scrolled": true
   },
   "outputs": [],
   "source": [
    "# Dependencies and Setup\n",
    "import matplotlib.pyplot as plt\n",
    "import pandas as pd\n",
    "import numpy as np\n",
    "import requests\n",
    "import time\n",
    "\n",
    "# Import API key\n",
    "from api_keys import api_key\n",
    "\n",
    "# Incorporated citipy to determine city based on latitude and longitude\n",
    "from citipy import citipy\n",
    "\n",
    "# Output File (CSV)\n",
    "output_data_file = \"output_data/cities.csv\"\n",
    "\n",
    "# Range of latitudes and longitudes\n",
    "lat_range = (-90, 90)\n",
    "lng_range = (-180, 180)\n",
    "\n",
    "\n"
   ]
  },
  {
   "cell_type": "markdown",
   "metadata": {},
   "source": [
    "## Generate Cities List"
   ]
  },
  {
   "cell_type": "code",
   "execution_count": 3,
   "metadata": {},
   "outputs": [
    {
     "name": "stdout",
     "output_type": "stream",
     "text": [
      "602\n",
      "['san patricio', 'erenhot', 'saint-philippe', 'kodiak', 'westport', 'kita', 'esperance', 'punta arenas', 'airai', 'sataua', 'muisne', 'mataura', 'bourail', 'hobart', 'luderitz', 'alta floresta', 'thompson', 'taolanaro', 'vaini', 'morgan city', 'chokurdakh', 'port alfred', 'mar del plata', 'nanortalik', 'caribou', 'hilo', 'te anau', 'sao filipe', 'bac lieu', 'talnakh', 'avarua', 'yatou', 'hofn', 'san javier', 'busselton', 'tasiilaq', 'nueva loja', 'mahebourg', 'new norfolk', 'victoria point', 'khonuu', 'narsaq', 'cherbourg', 'ostrovnoy', 'loubomo', 'kaeo', 'mount isa', 'aklavik', 'nueva helvecia', 'atuona', 'cherskiy', 'albany', 'harstad', 'vysokogornyy', 'rikitea', 'morrelganj', 'clarksdale', 'ancud', 'sorvag', 'isangel', 'cozumel', 'naze', 'arraial do cabo', 'okhotsk', 'lemesos', 'bredasdorp', 'rabat', 'castro', 'isabela', 'karoi', 'puerto ayora', 'batticaloa', 'ribeira grande', 'oakdale', 'sitka', 'lompoc', 'boa vista', 'teya', 'chuy', 'bethel', 'attawapiskat', 'upata', 'plettenberg bay', 'kwinana', 'kapaa', 'ushuaia', 'saint-augustin', 'ilulissat', 'iranshahr', 'ambalavao', 'barrow', 'hihifo', 'tiksi', 'raudeberg', 'pacific grove', 'smolenka', 'mitsamiouli', 'bengkulu', 'mogzon', 'saint george', 'bluff', 'butaritari', 'meadow lake', 'labrea', 'aplahoue', 'zemio', 'qaanaaq', 'lebu', 'amahai', 'provideniya', 'eureka', 'yokadouma', 'bagno a ripoli', 'port moresby', 'mildura', 'leningradskiy', 'hermanus', 'sylacauga', 'illoqqortoormiut', 'nikki', 'norman wells', 'kruisfontein', 'komsomolskiy', 'dikson', 'acari', 'awbari', 'upernavik', 'hamilton', 'faanui', 'clyde river', 'olafsvik', 'samarai', 'carnarvon', 'aizpute', 'cape town', 'georgetown', 'la ronge', 'vao', 'hellvik', 'belushya guba', 'tuatapere', 'durres', 'sudak', 'tsihombe', 'palabuhanratu', 'yaan', 'mys shmidta', 'torbay', 'bandar-e lengeh', 'qasigiannguit', 'camacha', 'hoi an', 'nizhneyansk', 'caravelas', 'brookhaven', 'yellowknife', 'turtkul', 'taonan', 'omaruru', 'kavieng', 'quatre cocos', 'bambous virieux', 'lakatoro', 'souillac', 'lolua', 'longyearbyen', 'santa rosa', 'zhigansk', 'port elizabeth', 'onguday', 'kouroussa', 'grand river south east', 'lagoa', 'kobayashi', 'hasaki', 'camocim', 'mount gambier', 'cairns', 'mountain home', 'nikolskoye', 'san cristobal', 'tautira', 'saleaula', 'sibolga', 'kaman', 'barentsburg', 'temaraia', 'meulaboh', 'sorland', 'sao joao da barra', 'east london', 'hendijan', 'sentyabrskiy', 'fairbanks', 'marshall', 'namibe', 'port blair', 'tuktoyaktuk', 'palmer', 'saint anthony', 'sinnamary', 'mitu', 'mudyuga', 'pangnirtung', 'chapais', 'nioro', 'taft', 'amderma', 'bulgan', 'lata', 'saskylakh', 'belaya gora', 'honiara', 'ara', 'iskateley', 'hithadhoo', 'cabedelo', 'gat', 'iqaluit', 'darnah', 'whitianga', 'sompeta', 'kieta', 'keller', 'dawlatabad', 'natal', 'vostok', 'aybak', 'cayenne', 'preobrazheniye', 'mullaitivu', 'dunedin', 'paradwip', 'bechyne', 'oranjemund', 'deputatskiy', 'vardo', 'ucluelet', 'saryshagan', 'constitucion', 'samusu', 'moyale', 'brae', 'havoysund', 'jamestown', 'seymchan', 'strezhevoy', 'vernon', 'portland', 'klaksvik', 'horsham', 'marsa matruh', 'mullingar', 'madaoua', 'nabire', 'north myrtle beach', 'havre-saint-pierre', 'rocha', 'half moon bay', 'darovskoy', 'guerrero negro', 'sur', 'qaqortoq', 'ixtapa', 'avera', 'port augusta', 'hambantota', 'dicabisagan', 'santa cruz', 'the valley', 'hornepayne', 'baykit', 'venice', 'beyneu', 'neuquen', 'okha', 'banjar', 'nimaj', 'akom', 'mehamn', 'puerto escondido', 'manzanillo', 'anito', 'khandyga', 'ola', 'arcachon', 'vila', 'tubruq', 'saint-joseph', 'tres arroyos', 'catamarca', 'nagua', 'victoria', 'sarangani', 'grindavik', 'yulara', 'gangotri', 'khatanga', 'cockburn town', 'umm lajj', 'gravdal', 'manokwari', 'chadiza', 'bouca', 'olga', 'grand centre', 'hualmay', 'acapulco', 'zhezkazgan', 'yablonovo', 'necochea', 'kholm', 'kabwe', 'banda aceh', 'bartica', 'adrar', 'arman', 'ajaccio', 'evensk', 'aksha', 'ust-omchug', 'klyuchi', 'kota kinabalu', 'rafai', 'husavik', 'kahului', 'kushmurun', 'caninde de sao francisco', 'mustasaari', 'alice springs', 'ampanihy', 'waitakere', 'kaitangata', 'kabelvag', 'kanniyakumari', 'manama', 'santa isabel', 'abonnema', 'paamiut', 'abu samrah', 'kozhva', 'progreso', 'sioux lookout', 'eirunepe', 'masuguru', 'dalmatovo', 'bargal', 'geraldton', 'neftcala', 'waddan', 'ulundi', 'solnechnyy', 'beloha', 'aktau', 'sobolevo', 'caraguatay', 'flinders', 'myaundzha', 'itaituba', 'sabha', 'salisbury', 'xining', 'buala', 'popondetta', 'cabo san lucas', 'susangerd', 'juneau', 'mrirt', 'tumannyy', 'buchanan', 'la palma', 'suda', 'asmara', 'vila velha', 'hokitika', 'mgachi', 'east wenatchee bench', 'northam', 'praya', 'lavrentiya', 'margate', 'carballo', 'tecoanapa', 'lakshettipet', 'bubaque', 'mason city', 'severo-kurilsk', 'chagda', 'touros', 'bongandanga', 'loikaw', 'presidencia roque saenz pena', 'setermoen', 'broome', 'monywa', 'nunspeet', 'tikri', 'sakakah', 'magadan', 'fort-shevchenko', 'riyadh', 'yarim', 'grand gaube', 'salalah', 'jaciara', 'katsuura', 'bejar', 'cap malheureux', 'kurilsk', 'kolpashevo', 'lodja', 'saldanha', 'tingi', 'lypnyazhka', 'fortuna', 'bousso', 'ponta do sol', 'zyryanka', 'lazaro cardenas', 'lorengau', 'pontianak', 'vila franca do campo', 'waingapu', 'yantal', 'marcona', 'beira', 'yanaul', 'kavaratti', 'tendukheda', 'okakarara', 'ler', 'pisco', 'anyama', 'maragogi', 'contamana', 'kloulklubed', 'xam nua', 'lopatino', 'henties bay', 'marawi', 'faya', 'severnyy', 'vallenar', 'kununurra', 'leshukonskoye', 'yenagoa', 'san jose', 'cantaura', 'romitan', 'pangody', 'limbang', 'bayji', 'quelimane', 'padang', 'olkhovka', 'taoudenni', 'aktash', 'lyaskelya', 'manadhoo', 'rancho palos verdes', 'pindushi', 'kamenskoye', 'vestbygda', 'rio gallegos', 'caconda', 'jujuy', 'clacton-on-sea', 'zatoka', 'greenland', 'gusino', 'urusha', 'port-gentil', 'lasa', 'tierranueva', 'port dickson', 'tambovka', 'sharjah', 'guipavas', 'buraydah', 'todos santos', 'bathsheba', 'wufeng', 'galgani', 'omboue', 'yerbogachen', 'tallahassee', 'marsaxlokk', 'tuggurt', 'gulfport', 'visegrad', 'vilcun', 'borisoglebsk', 'ilinge', 'coos bay', 'atambua', 'pimentel', 'merrill', 'beringovskiy', 'bogomila', 'benghazi', 'yabrud', 'mogochin', 'chabahar', 'egvekinot', 'ylojarvi', 'kouqian', 'korla', 'barahona', 'marfino', 'gornyy', 'jamshedpur', 'sao gabriel da cachoeira', 'hay river', 'dorado', 'orlik', 'wilmington', 'robertsport', 'codrington', 'coahuayana', 'uige', 'kajaani', 'san lorenzo', 'clarence town', 'bafata', 'banka', 'itarema', 'gazimagusa', 'ekhabi', 'goderich', 'menongue', 'moerai', 'falun', 'tomatlan', 'garh maharaja', 'salaga', 'coihaique', 'ojinaga', 'ormara', 'vinzili', 'bonavista', 'astoria', 'agadez', 'mocambique', 'bagdarin', 'tome', 'high level', 'honningsvag', 'biak', 'ahipara', 'pochutla', 'nishihara', 'kirakira', 'moses lake', 'evans', 'bima', 'barcelos', 'bauchi', 'khash', 'tabiauea', 'mzimba', 'kendari', 'sola', 'pevek', 'gladstone', 'impfondo', 'kargasok', 'nouadhibou', 'kenai', 'comodoro rivadavia', 'slave lake', 'hurghada', 'maracaju', 'biltine', 'torbat-e jam', 'la paz', 'campo verde', 'atar', 'ballina', 'ardakan', 'badou', 'basco', 'saurimo', 'itaqui', 'sechura', 'nizhniy kuranakh', 'kardla', 'clinton', 'bere', 'mahajanga', 'namatanai', 'sitio novo do tocantins', 'musoma', 'kamenka', 'luwuk', 'ponta delgada', 'bam', 'sofiysk', 'hinton', 'bandarbeyla', 'sinop', 'salamanca', 'manggar']\n"
     ]
    }
   ],
   "source": [
    "# List for holding lat_lngs and cities\n",
    "lat_lngs = []\n",
    "cities = []\n",
    "\n",
    "# Create a set of random lat and lng combinations\n",
    "lats = np.random.uniform(low=-90.000, high=90.000, size=1500)\n",
    "lngs = np.random.uniform(low=-180.000, high=180.000, size=1500)\n",
    "lat_lngs = zip(lats, lngs)\n",
    "\n",
    "# Identify nearest city for each lat, lng combination\n",
    "for lat_lng in lat_lngs:\n",
    "    city = citipy.nearest_city(lat_lng[0], lat_lng[1]).city_name\n",
    "    \n",
    "    # If the city is unique, then add it to a our cities list\n",
    "    if city not in cities:\n",
    "        cities.append(city)\n",
    "\n",
    "# Print the city count to confirm sufficient count\n",
    "print(len(cities))\n",
    "print(cities)\n"
   ]
  },
  {
   "cell_type": "markdown",
   "metadata": {},
   "source": [
    "### Perform API Calls\n",
    "* Perform a weather check on each city using a series of successive API calls.\n",
    "* Include a print log of each city as it'sbeing processed (with the city number and city name).\n"
   ]
  },
  {
   "cell_type": "code",
   "execution_count": 20,
   "metadata": {},
   "outputs": [
    {
     "ename": "AttributeError",
     "evalue": "'NoneType' object has no attribute 'json'",
     "output_type": "error",
     "traceback": [
      "\u001b[1;31m---------------------------------------------------------------------------\u001b[0m",
      "\u001b[1;31mAttributeError\u001b[0m                            Traceback (most recent call last)",
      "\u001b[1;32m<ipython-input-20-287f2d7a2d3b>\u001b[0m in \u001b[0;36m<module>\u001b[1;34m\u001b[0m\n\u001b[0;32m     10\u001b[0m     \u001b[1;31m#try:\u001b[0m\u001b[1;33m\u001b[0m\u001b[1;33m\u001b[0m\u001b[1;33m\u001b[0m\u001b[0m\n\u001b[0;32m     11\u001b[0m \u001b[0mcity_weather_requests\u001b[0m \u001b[1;33m=\u001b[0m \u001b[0mrequests\u001b[0m\u001b[1;33m.\u001b[0m\u001b[0mget\u001b[0m\u001b[1;33m(\u001b[0m\u001b[0mquery_url\u001b[0m\u001b[1;33m+\u001b[0m\u001b[0mcity\u001b[0m\u001b[1;33m)\u001b[0m\u001b[1;33m\u001b[0m\u001b[1;33m\u001b[0m\u001b[0m\n\u001b[1;32m---> 12\u001b[1;33m \u001b[0mweather_data\u001b[0m\u001b[1;33m.\u001b[0m\u001b[0mappend\u001b[0m\u001b[1;33m(\u001b[0m\u001b[0mcity_data_requests\u001b[0m\u001b[1;33m)\u001b[0m\u001b[1;33m.\u001b[0m\u001b[0mjson\u001b[0m\u001b[1;33m(\u001b[0m\u001b[1;33m)\u001b[0m\u001b[1;33m\u001b[0m\u001b[1;33m\u001b[0m\u001b[0m\n\u001b[0m\u001b[0;32m     13\u001b[0m         \u001b[1;31m#print(f\"Record{enumerate(city)}in set 1 is processing)\u001b[0m\u001b[1;33m\u001b[0m\u001b[1;33m\u001b[0m\u001b[1;33m\u001b[0m\u001b[0m\n\u001b[0;32m     14\u001b[0m     \u001b[1;31m#except \"code: 404, message: city not found\":\u001b[0m\u001b[1;33m\u001b[0m\u001b[1;33m\u001b[0m\u001b[1;33m\u001b[0m\u001b[0m\n",
      "\u001b[1;31mAttributeError\u001b[0m: 'NoneType' object has no attribute 'json'"
     ]
    }
   ],
   "source": [
    "url = \"http://api.openweathermap.org/data/2.5/weather?\"\n",
    "#units = \"&units=metric\"\n",
    "\n",
    "\n",
    "weather_data = []\n",
    "set_1 = cities[0:59]\n",
    "\n",
    "    for city in set_1:\n",
    "        query_url = query_url = (url + \"appid=\" + api_key + \"&q=\" + \"san patricio\")# units)\n",
    "        try:     \n",
    "            city_weather_requests = requests.get(query_url+city)\n",
    "            print(f\"Record{enumerate(city)}in set 1 is processing)\n",
    "            if city not in weather_data:\n",
    "                weather_data.append(city_data_requests).json()\n",
    "        \n",
    "            except AttributeError: \n",
    "              \n",
    "        \n",
    "\n",
    "weather_data\n",
    "        \n",
    "        \n",
    "\n",
    "        \n",
    "\n"
   ]
  },
  {
   "cell_type": "code",
   "execution_count": null,
   "metadata": {},
   "outputs": [],
   "source": [
    "if city in city_data_reqeusts:\n",
    "    weather_data.append(city_data_request)\n",
    "    print(f\"Processing Record 1 of len(cities) in cities | {city})\n",
    "if city not it city_data_requests:\n",
    "    print(\"\")\n",
    "    "
   ]
  },
  {
   "cell_type": "code",
   "execution_count": 17,
   "metadata": {},
   "outputs": [
    {
     "name": "stdout",
     "output_type": "stream",
     "text": [
      "[{'cod': '404', 'message': 'city not found'}, {'cod': '404', 'message': 'city not found'}, {'cod': '404', 'message': 'city not found'}, {'cod': '404', 'message': 'city not found'}, {'cod': '404', 'message': 'city not found'}, {'cod': '404', 'message': 'city not found'}, {'cod': '404', 'message': 'city not found'}, {'cod': '404', 'message': 'city not found'}, {'cod': '404', 'message': 'city not found'}, {'cod': '404', 'message': 'city not found'}, {'cod': '404', 'message': 'city not found'}, {'cod': '404', 'message': 'city not found'}, {'cod': '404', 'message': 'city not found'}, {'cod': '404', 'message': 'city not found'}, {'cod': '404', 'message': 'city not found'}, {'cod': '404', 'message': 'city not found'}, {'cod': '404', 'message': 'city not found'}, {'cod': '404', 'message': 'city not found'}, {'cod': '404', 'message': 'city not found'}, {'cod': '404', 'message': 'city not found'}, {'cod': '404', 'message': 'city not found'}, {'cod': '404', 'message': 'city not found'}, {'cod': '404', 'message': 'city not found'}, {'cod': '404', 'message': 'city not found'}, {'cod': '404', 'message': 'city not found'}, {'cod': '404', 'message': 'city not found'}, {'cod': '404', 'message': 'city not found'}, {'cod': '404', 'message': 'city not found'}, {'cod': '404', 'message': 'city not found'}]\n"
     ]
    }
   ],
   "source": [
    "\n",
    "print(weather_data)\n"
   ]
  },
  {
   "cell_type": "markdown",
   "metadata": {},
   "source": [
    "### Convert Raw Data to DataFrame\n",
    "* Export the city data into a .csv.\n",
    "* Display the DataFrame"
   ]
  },
  {
   "cell_type": "code",
   "execution_count": null,
   "metadata": {},
   "outputs": [],
   "source": [
    "api_key"
   ]
  },
  {
   "cell_type": "code",
   "execution_count": null,
   "metadata": {},
   "outputs": [],
   "source": []
  },
  {
   "cell_type": "markdown",
   "metadata": {},
   "source": [
    "### Plotting the Data\n",
    "* Use proper labeling of the plots using plot titles (including date of analysis) and axes labels.\n",
    "* Save the plotted figures as .pngs."
   ]
  },
  {
   "cell_type": "markdown",
   "metadata": {},
   "source": [
    "#### Latitude vs. Temperature Plot"
   ]
  },
  {
   "cell_type": "code",
   "execution_count": null,
   "metadata": {},
   "outputs": [],
   "source": []
  },
  {
   "cell_type": "markdown",
   "metadata": {},
   "source": [
    "#### Latitude vs. Humidity Plot"
   ]
  },
  {
   "cell_type": "code",
   "execution_count": null,
   "metadata": {},
   "outputs": [],
   "source": []
  },
  {
   "cell_type": "markdown",
   "metadata": {},
   "source": [
    "#### Latitude vs. Cloudiness Plot"
   ]
  },
  {
   "cell_type": "code",
   "execution_count": null,
   "metadata": {},
   "outputs": [],
   "source": []
  },
  {
   "cell_type": "markdown",
   "metadata": {},
   "source": [
    "#### Latitude vs. Wind Speed Plot"
   ]
  },
  {
   "cell_type": "code",
   "execution_count": null,
   "metadata": {},
   "outputs": [],
   "source": []
  },
  {
   "cell_type": "code",
   "execution_count": null,
   "metadata": {},
   "outputs": [],
   "source": []
  }
 ],
 "metadata": {
  "anaconda-cloud": {},
  "kernel_info": {
   "name": "python3"
  },
  "kernelspec": {
   "display_name": "Python 3",
   "language": "python",
   "name": "python3"
  },
  "language_info": {
   "codemirror_mode": {
    "name": "ipython",
    "version": 3
   },
   "file_extension": ".py",
   "mimetype": "text/x-python",
   "name": "python",
   "nbconvert_exporter": "python",
   "pygments_lexer": "ipython3",
   "version": "3.6.8"
  },
  "nteract": {
   "version": "0.12.3"
  }
 },
 "nbformat": 4,
 "nbformat_minor": 2
}
